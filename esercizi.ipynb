{
 "cells": [
  {
   "cell_type": "code",
   "execution_count": 3,
   "metadata": {},
   "outputs": [
    {
     "name": "stdout",
     "output_type": "stream",
     "text": [
      "<class 'polars.dataframe.frame.DataFrame'>\n"
     ]
    }
   ],
   "source": [
    "'''Create a Polars DataFrame from a dictionary containing the following data:\n",
    "Name: [\"Alice\", \"Bob\", \"Charlie\"]\n",
    "Age: [25, 30, 35]\n",
    "City: [\"New York\", \"Los Angeles\", \"Chicago\"]\n",
    "Print the DataFrame'''\n",
    "import polars as pl\n",
    "\n",
    "dic={\"Name\": [\"Alice\", \"Bob\", \"Charlie\"]\n",
    "     ,\"Age\": [25, 30, 35]\n",
    "     ,\"City\": [\"New York\", \"Los Angeles\", \"Chicago\"]}\n",
    "\n",
    "df=pl.DataFrame(dic)\n",
    "\n",
    "print(type(df))\n",
    "\n"
   ]
  },
  {
   "cell_type": "code",
   "execution_count": 10,
   "metadata": {},
   "outputs": [
    {
     "name": "stdout",
     "output_type": "stream",
     "text": [
      "60000.0\n"
     ]
    }
   ],
   "source": [
    "'''Add a new column Salary \n",
    "to the DataFrame from Exercise 1, with the values [50000, 60000, 70000].'''\n",
    "\n",
    "salary=[50000, 60000, 70000]\n",
    "\n",
    "df=df.with_columns(pl.Series(salary).alias(\"Salary\"))\n",
    "\n",
    "#df.head()\n",
    "\n",
    "avg_salary=0\n",
    "avg_salary=df[\"Salary\"].mean()\n",
    "print(avg_salary)"
   ]
  },
  {
   "cell_type": "code",
   "execution_count": 12,
   "metadata": {},
   "outputs": [
    {
     "data": {
      "text/html": [
       "<div><style>\n",
       ".dataframe > thead > tr,\n",
       ".dataframe > tbody > tr {\n",
       "  text-align: right;\n",
       "  white-space: pre-wrap;\n",
       "}\n",
       "</style>\n",
       "<small>shape: (2, 4)</small><table border=\"1\" class=\"dataframe\"><thead><tr><th>Name</th><th>Age</th><th>City</th><th>Salary</th></tr><tr><td>str</td><td>i64</td><td>str</td><td>i64</td></tr></thead><tbody><tr><td>&quot;Bob&quot;</td><td>30</td><td>&quot;Los Angeles&quot;</td><td>60000</td></tr><tr><td>&quot;Charlie&quot;</td><td>35</td><td>&quot;Chicago&quot;</td><td>70000</td></tr></tbody></table></div>"
      ],
      "text/plain": [
       "shape: (2, 4)\n",
       "┌─────────┬─────┬─────────────┬────────┐\n",
       "│ Name    ┆ Age ┆ City        ┆ Salary │\n",
       "│ ---     ┆ --- ┆ ---         ┆ ---    │\n",
       "│ str     ┆ i64 ┆ str         ┆ i64    │\n",
       "╞═════════╪═════╪═════════════╪════════╡\n",
       "│ Bob     ┆ 30  ┆ Los Angeles ┆ 60000  │\n",
       "│ Charlie ┆ 35  ┆ Chicago     ┆ 70000  │\n",
       "└─────────┴─────┴─────────────┴────────┘"
      ]
     },
     "execution_count": 12,
     "metadata": {},
     "output_type": "execute_result"
    }
   ],
   "source": [
    "'''Exercise 3: Filtering Data\n",
    "Filter the DataFrame to show only rows where Age is greater than 28.\n",
    "Print the filtered DataFrame.\n",
    "'''\n",
    "\n",
    "df_filtered=df.filter(df[\"Age\"]>28)\n",
    "df_filtered.head()"
   ]
  },
  {
   "cell_type": "code",
   "execution_count": 15,
   "metadata": {},
   "outputs": [
    {
     "data": {
      "text/html": [
       "<div><style>\n",
       ".dataframe > thead > tr,\n",
       ".dataframe > tbody > tr {\n",
       "  text-align: right;\n",
       "  white-space: pre-wrap;\n",
       "}\n",
       "</style>\n",
       "<small>shape: (3, 2)</small><table border=\"1\" class=\"dataframe\"><thead><tr><th>Department</th><th>avg_salary</th></tr><tr><td>str</td><td>f64</td></tr></thead><tbody><tr><td>&quot;HR&quot;</td><td>52500.0</td></tr><tr><td>&quot;IT&quot;</td><td>70000.0</td></tr><tr><td>&quot;Finance&quot;</td><td>60000.0</td></tr></tbody></table></div>"
      ],
      "text/plain": [
       "shape: (3, 2)\n",
       "┌────────────┬────────────┐\n",
       "│ Department ┆ avg_salary │\n",
       "│ ---        ┆ ---        │\n",
       "│ str        ┆ f64        │\n",
       "╞════════════╪════════════╡\n",
       "│ HR         ┆ 52500.0    │\n",
       "│ IT         ┆ 70000.0    │\n",
       "│ Finance    ┆ 60000.0    │\n",
       "└────────────┴────────────┘"
      ]
     },
     "execution_count": 15,
     "metadata": {},
     "output_type": "execute_result"
    }
   ],
   "source": [
    "'''Exercise 4: Grouping and Aggregation\n",
    "Create a new DataFrame with the following data:\n",
    "Department: [\"HR\", \"Finance\", \"HR\", \"IT\"]\n",
    "Employee: [\"Alice\", \"Bob\", \"Charlie\", \"David\"]\n",
    "Salary: [50000, 60000, 55000, 70000]\n",
    "Group the DataFrame by Department and calculate the average Salary for each department.\n",
    "Print the resulting DataFrame.'''\n",
    "\n",
    "\n",
    "dic2={\"Department\": [\"HR\", \"Finance\", \"HR\", \"IT\"]\n",
    "     ,\"Employee\": [\"Alice\", \"Bob\", \"Charlie\", \"David\"]\n",
    "     ,\"Salary\": [50000, 60000, 55000, 70000]}\n",
    "\n",
    "df2=pl.DataFrame(dic2)\n",
    "\n",
    "df2_mean=df2.group_by(\"Department\").agg(pl.mean(\"Salary\").alias(\"avg_salary\"))\n",
    "\n",
    "df2_mean.head()\n",
    "\n"
   ]
  },
  {
   "cell_type": "code",
   "execution_count": 19,
   "metadata": {},
   "outputs": [
    {
     "data": {
      "text/html": [
       "<div><style>\n",
       ".dataframe > thead > tr,\n",
       ".dataframe > tbody > tr {\n",
       "  text-align: right;\n",
       "  white-space: pre-wrap;\n",
       "}\n",
       "</style>\n",
       "<small>shape: (3, 3)</small><table border=\"1\" class=\"dataframe\"><thead><tr><th>ID</th><th>Name</th><th>Salary</th></tr><tr><td>i64</td><td>str</td><td>i64</td></tr></thead><tbody><tr><td>1</td><td>&quot;Alice&quot;</td><td>50000</td></tr><tr><td>2</td><td>&quot;Bob&quot;</td><td>60000</td></tr><tr><td>3</td><td>&quot;Charlie&quot;</td><td>null</td></tr></tbody></table></div>"
      ],
      "text/plain": [
       "shape: (3, 3)\n",
       "┌─────┬─────────┬────────┐\n",
       "│ ID  ┆ Name    ┆ Salary │\n",
       "│ --- ┆ ---     ┆ ---    │\n",
       "│ i64 ┆ str     ┆ i64    │\n",
       "╞═════╪═════════╪════════╡\n",
       "│ 1   ┆ Alice   ┆ 50000  │\n",
       "│ 2   ┆ Bob     ┆ 60000  │\n",
       "│ 3   ┆ Charlie ┆ null   │\n",
       "└─────┴─────────┴────────┘"
      ]
     },
     "execution_count": 19,
     "metadata": {},
     "output_type": "execute_result"
    }
   ],
   "source": [
    "'''Exercise 5: Joining DataFrames\n",
    "Create two DataFrames:\n",
    "df1: with columns ID and Name:\n",
    "ID: [1, 2, 3]\n",
    "Name: [\"Alice\", \"Bob\", \"Charlie\"]\n",
    "df2: with columns ID and Salary:\n",
    "ID: [1, 2, 4]\n",
    "Salary: [50000, 60000, 80000]\n",
    "Perform a left join on the ID column and print the resulting DataFrame'''\n",
    "\n",
    "\n",
    "\n",
    "\n",
    "df1=pl.DataFrame({\"ID\": [1, 2, 3]\n",
    "                ,\"Name\": [\"Alice\", \"Bob\", \"Charlie\"]\n",
    "                })\n",
    "\n",
    "df2=pl.DataFrame({\"ID\": [1, 2, 4]\n",
    "                ,\"Salary\": [50000, 60000, 80000]\n",
    "                })\n",
    "\n",
    "df_join=df1.join(df2, on=\"ID\", how=\"left\")\n",
    "df_join.head()"
   ]
  },
  {
   "cell_type": "code",
   "execution_count": 20,
   "metadata": {},
   "outputs": [
    {
     "data": {
      "text/html": [
       "<div><style>\n",
       ".dataframe > thead > tr,\n",
       ".dataframe > tbody > tr {\n",
       "  text-align: right;\n",
       "  white-space: pre-wrap;\n",
       "}\n",
       "</style>\n",
       "<small>shape: (3, 2)</small><table border=\"1\" class=\"dataframe\"><thead><tr><th>Name</th><th>Age</th></tr><tr><td>str</td><td>i64</td></tr></thead><tbody><tr><td>&quot;Alice&quot;</td><td>25</td></tr><tr><td>null</td><td>30</td></tr><tr><td>&quot;Charlie&quot;</td><td>null</td></tr></tbody></table></div>"
      ],
      "text/plain": [
       "shape: (3, 2)\n",
       "┌─────────┬──────┐\n",
       "│ Name    ┆ Age  │\n",
       "│ ---     ┆ ---  │\n",
       "│ str     ┆ i64  │\n",
       "╞═════════╪══════╡\n",
       "│ Alice   ┆ 25   │\n",
       "│ null    ┆ 30   │\n",
       "│ Charlie ┆ null │\n",
       "└─────────┴──────┘"
      ]
     },
     "execution_count": 20,
     "metadata": {},
     "output_type": "execute_result"
    }
   ],
   "source": [
    "'''Exercise 6: Handling Missing Data\n",
    "Create a DataFrame with some missing values:\n",
    "Name: [\"Alice\", None, \"Charlie\"]\n",
    "Age: [25, 30, None]\n",
    "Fill the missing values in Name with \"Unknown\" and in Age with the average age.\n",
    "Print the updated DataFrame.'''\n",
    "\n",
    "\n",
    "df3=pl.DataFrame({\"Name\": [\"Alice\", None, \"Charlie\"]\n",
    "                ,\"Age\": [25, 30, None]\n",
    "                })\n",
    "\n",
    "df3.head()"
   ]
  }
 ],
 "metadata": {
  "kernelspec": {
   "display_name": "Python 3",
   "language": "python",
   "name": "python3"
  },
  "language_info": {
   "codemirror_mode": {
    "name": "ipython",
    "version": 3
   },
   "file_extension": ".py",
   "mimetype": "text/x-python",
   "name": "python",
   "nbconvert_exporter": "python",
   "pygments_lexer": "ipython3",
   "version": "3.10.11"
  }
 },
 "nbformat": 4,
 "nbformat_minor": 2
}
