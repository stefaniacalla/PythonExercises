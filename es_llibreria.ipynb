{
 "cells": [
  {
   "cell_type": "code",
   "execution_count": null,
   "metadata": {},
   "outputs": [],
   "source": [
    "from es_libreria import Cliente, Libro, Libreria\n",
    "\n",
    "libri = [\n",
    "    Libro(1, \"Ciccio\", \"Cocco\"),\n",
    "    Libro(2, \"Ciccio 2\", \"Cocco\"),\n",
    "    Libro(3, \"Panza\", \"Carino\")\n",
    "]\n",
    "\n",
    "clienti = [\n",
    "    Cliente(1, \"Andrea\", \"Carino\"),\n",
    "    Cliente(2, \"La\", \"Steffi\"),\n",
    "    Cliente(3, \"Teodoro\", \"Riboldi\")\n",
    "]"
   ]
  }
 ],
 "metadata": {
  "language_info": {
   "name": "python"
  }
 },
 "nbformat": 4,
 "nbformat_minor": 2
}
